{
 "cells": [
  {
   "cell_type": "markdown",
   "metadata": {},
   "source": [
    "# Pérdida de costa en Málaga"
   ]
  },
  {
   "cell_type": "markdown",
   "metadata": {},
   "source": [
    "El cambio climático YA está afectando a muchas áreas de nuestra vida:\n",
    "* Subida de temperaturas.\n",
    "* Deshielo de los polos.\n",
    "* Acidificación de los océanos.\n",
    "* Incremento de los fenómenos extremos (sequías, inundaciones, olas de calor,...).\n",
    "* ..."
   ]
  },
  {
   "cell_type": "markdown",
   "metadata": {},
   "source": [
    "Esto puede derivar en problemas muy importantes:\n",
    "\n",
    "https://www.climate.gov/news-features/climate-and/climate-beer"
   ]
  },
  {
   "cell_type": "markdown",
   "metadata": {},
   "source": [
    "Las predicciones de cambio climático indican que, debido al deshielo de los polos, habrá una subida del nivel del mar.\n",
    "\n",
    "Málaga, como todos sabéis, es una ciudad costera localizada en lo que se llama Costa del Sol. No hay que ser muy inteligente para saber que una de las actividades económicas más importantes de la región es el turismo.\n",
    "\n",
    "¿Qué pasará con la subida del nivel del mar en esta zona?"
   ]
  },
  {
   "cell_type": "markdown",
   "metadata": {},
   "source": [
    "# WARNING: Rigurosidad científica discutible"
   ]
  },
  {
   "cell_type": "markdown",
   "metadata": {},
   "source": [
    "Vamos a hacer:\n",
    "\n",
    "* un cálculo de servilleta\n",
    "* un 'y si mi abuela tiene ruedas tengo un motocarro'\n",
    "* una 'cuenta de la lechera'\n",
    "* ..."
   ]
  },
  {
   "cell_type": "code",
   "execution_count": null,
   "metadata": {},
   "outputs": [],
   "source": [
    "import numpy as np\n",
    "import matplotlib.pyplot as plt\n",
    "import srtm\n",
    "%matplotlib inline"
   ]
  },
  {
   "cell_type": "markdown",
   "metadata": {},
   "source": [
    "Descargamos datos de elevación del terreno de SRTM (Shuttle Radar Topography Mission):"
   ]
  },
  {
   "cell_type": "code",
   "execution_count": null,
   "metadata": {},
   "outputs": [],
   "source": [
    "geo_elevation_data = srtm.get_data()\n",
    "data = geo_elevation_data.get_image((1000, 500), (36, 37), (-6, -4), 3500, mode=\"array\")"
   ]
  },
  {
   "cell_type": "code",
   "execution_count": null,
   "metadata": {},
   "outputs": [],
   "source": [
    "plt.imshow(np.flipud(data))"
   ]
  },
  {
   "cell_type": "code",
   "execution_count": null,
   "metadata": {},
   "outputs": [],
   "source": [
    "#lat = np.linspace(36, 37, 500)\n",
    "#lon = np.linspace(-6, -4, 1000)\n",
    "#plt.contourf(lon, lat, data, levels=np.arange(0, 3500, 100))\n",
    "plt.contourf(data, levels=np.arange(0, 3500, 100))"
   ]
  },
  {
   "cell_type": "code",
   "execution_count": null,
   "metadata": {},
   "outputs": [],
   "source": [
    "plt.figure(figsize=(15, 5))\n",
    "plt.contour(data, levels=0, colors='k', linewidths=2)"
   ]
  },
  {
   "cell_type": "code",
   "execution_count": null,
   "metadata": {},
   "outputs": [],
   "source": [
    "plt.figure(figsize=(15, 5))\n",
    "plt.contour(data[320:380, 350:450], levels=0, colors='k', linewidths=2)"
   ]
  },
  {
   "cell_type": "code",
   "execution_count": null,
   "metadata": {},
   "outputs": [],
   "source": [
    "plt.figure(figsize=(15, 5))\n",
    "plt.contour(data[320:380, 350:450], levels=0, colors='k', linewidths=2)\n",
    "plt.contour(data[320:380, 350:450], levels=1, colors='b', linewidths=1)\n",
    "plt.contour(data[320:380, 350:450], levels=2, colors='g', linewidths=1)"
   ]
  },
  {
   "cell_type": "code",
   "execution_count": null,
   "metadata": {},
   "outputs": [],
   "source": []
  }
 ],
 "metadata": {
  "kernelspec": {
   "display_name": "Python 3",
   "language": "python",
   "name": "python3"
  },
  "language_info": {
   "codemirror_mode": {
    "name": "ipython",
    "version": 3
   },
   "file_extension": ".py",
   "mimetype": "text/x-python",
   "name": "python",
   "nbconvert_exporter": "python",
   "pygments_lexer": "ipython3",
   "version": "3.6.5"
  }
 },
 "nbformat": 4,
 "nbformat_minor": 2
}
