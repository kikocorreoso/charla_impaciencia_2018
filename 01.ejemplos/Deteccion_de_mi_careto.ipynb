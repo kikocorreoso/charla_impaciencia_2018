{
 "cells": [
  {
   "cell_type": "markdown",
   "metadata": {},
   "source": [
    "# Detección de mi cara (o de cualquier otro)"
   ]
  },
  {
   "cell_type": "code",
   "execution_count": 2,
   "metadata": {},
   "outputs": [],
   "source": [
    "import cv2\n",
    "\n",
    "face_cascade = cv2.CascadeClassifier('ejemplos/careto/haarcascade_frontalface_default.xml')\n",
    "\n",
    "video_capture = cv2.VideoCapture(0)\n",
    "video_capture.set(3, 640) #WIDTH\n",
    "video_capture.set(4, 480) #HEIGHT\n",
    "\n",
    "while True:\n",
    "    # Capture frame-by-frame\n",
    "    ret, frame = video_capture.read()\n",
    "\n",
    "    gray = cv2.cvtColor(frame, cv2.COLOR_BGR2GRAY)\n",
    "\n",
    "    faces = face_cascade.detectMultiScale(gray, 1.3, 5)\n",
    "\n",
    "    for (x,y,w,h) in faces:\n",
    "        #cv2.rectangle(frame,(x,y),(x+w,y+h),(255,0,0), 10)\n",
    "        #roi_gray = gray[y:y+h, x:x+w]\n",
    "        #roi_color = frame[y:y+h, x:x+w]\n",
    "        frame[y:y+h, x:x+w, :] = 180\n",
    "\n",
    "    # Display the resulting frame\n",
    "    cv2.imshow('Video', frame)\n",
    "\n",
    "    if cv2.waitKey(1) & 0xFF == ord('q'):\n",
    "        break\n",
    "\n",
    "# When everything is done, release the capture\n",
    "video_capture.release()\n",
    "\n",
    "cv2.destroyAllWindows()"
   ]
  },
  {
   "cell_type": "code",
   "execution_count": 1,
   "metadata": {},
   "outputs": [],
   "source": [
    "import cv2\n",
    "\n",
    "eye_cascade = cv2.CascadeClassifier('ejemplos/careto/haarcascade_eye.xml')\n",
    "\n",
    "video_capture = cv2.VideoCapture(0)\n",
    "video_capture.set(3, 640) #WIDTH\n",
    "video_capture.set(4, 480) #HEIGHT\n",
    "\n",
    "while True:\n",
    "    # Capture frame-by-frame\n",
    "    ret, frame = video_capture.read()\n",
    "\n",
    "    gray = cv2.cvtColor(frame, cv2.COLOR_BGR2GRAY)\n",
    "\n",
    "    eyes = eye_cascade.detectMultiScale(gray, 1.3, 5)\n",
    "\n",
    "    for (x,y,w,h) in eyes:\n",
    "        #cv2.rectangle(frame,(x,y),(x+w,y+h),(255,0,0), 10)\n",
    "        #roi_gray = gray[y:y+h, x:x+w]\n",
    "        #roi_color = frame[y:y+h, x:x+w]\n",
    "        frame[y:y+h, x:x+w, 0] = 255\n",
    "        frame[y:y+h, x:x+w, 1] = 0\n",
    "        frame[y:y+h, x:x+w, 2] = 0\n",
    "\n",
    "    # Display the resulting frame\n",
    "    cv2.imshow('Video', frame)\n",
    "\n",
    "    if cv2.waitKey(1) & 0xFF == ord('q'):\n",
    "        break\n",
    "\n",
    "# When everything is done, release the capture\n",
    "video_capture.release()\n",
    "\n",
    "cv2.destroyAllWindows()"
   ]
  }
 ],
 "metadata": {
  "kernelspec": {
   "display_name": "Python 3",
   "language": "python",
   "name": "python3"
  },
  "language_info": {
   "codemirror_mode": {
    "name": "ipython",
    "version": 3
   },
   "file_extension": ".py",
   "mimetype": "text/x-python",
   "name": "python",
   "nbconvert_exporter": "python",
   "pygments_lexer": "ipython3",
   "version": "3.6.5"
  }
 },
 "nbformat": 4,
 "nbformat_minor": 2
}
