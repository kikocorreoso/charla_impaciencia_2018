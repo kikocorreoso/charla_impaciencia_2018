{
 "cells": [
  {
   "cell_type": "markdown",
   "metadata": {},
   "source": [
    "A mis hijos les gusta hacer colecciones de cromos.\n",
    "\n",
    "Me <del>jode</del>molesta porque parte del dinero que me gasto va a evasores fiscales.\n",
    "\n",
    "Pero bueno, a lo que vamos,... El otro día estuve ayudando a uno de ellos a pegar los cromos en el álbum y me resultó escandaloso que de alguno tenía hasta 4 veces el cromo. Cuando se fueron a dormir me puse a contar los cromos repetidos para ver si realmente era escandaloso que hubiera tantos repetidos.\n",
    "\n",
    "Conté que había 6 jugadores repetidos hasta 4 veces y 13 jugadores repetidos 3 veces.\n",
    "\n",
    "Abrí el portátil e hice un pequeño cálculo de servilleta ([@pcoffeebreak](https://twitter.com/pcoffeebreak) rules!!!)"
   ]
  },
  {
   "cell_type": "code",
   "execution_count": null,
   "metadata": {},
   "outputs": [],
   "source": [
    "import numpy as np\n",
    "import matplotlib.pyplot as plt\n",
    "%matplotlib inline"
   ]
  },
  {
   "cell_type": "markdown",
   "metadata": {},
   "source": [
    "Supongamos que tenemos 20 equipos con 15 jugadores y en cada sobre hay 6 cromos."
   ]
  },
  {
   "cell_type": "code",
   "execution_count": null,
   "metadata": {},
   "outputs": [],
   "source": [
    "total = 20 * 15\n",
    "sobre = 6"
   ]
  },
  {
   "cell_type": "markdown",
   "metadata": {},
   "source": [
    "Vamos a comprar $n$ paquetes ($n x 6$ cromos). En cada paquete no puede (o no debe) haber cromos repetidos."
   ]
  },
  {
   "cell_type": "code",
   "execution_count": null,
   "metadata": {},
   "outputs": [],
   "source": [
    "n = 100\n",
    "\n",
    "coleccion = np.zeros(total)\n",
    "while coleccion.sum() < n * 6:\n",
    "    valores = np.random.randint(1, total + 1, sobre)\n",
    "    if len(np.unique(valores)) == len(valores):\n",
    "        coleccion[valores - 1] += 1\n",
    "print((coleccion == 0).sum())\n",
    "print(coleccion.max())\n",
    "print(coleccion, coleccion.sum())"
   ]
  },
  {
   "cell_type": "code",
   "execution_count": null,
   "metadata": {},
   "outputs": [],
   "source": [
    "plt.hist(coleccion, bins=np.arange(-0.5, 20.5, 1))\n",
    "plt.xticks(np.arange(0,21))\n",
    "plt.grid()"
   ]
  },
  {
   "cell_type": "code",
   "execution_count": null,
   "metadata": {},
   "outputs": [],
   "source": []
  }
 ],
 "metadata": {
  "kernelspec": {
   "display_name": "Python 3",
   "language": "python",
   "name": "python3"
  },
  "language_info": {
   "codemirror_mode": {
    "name": "ipython",
    "version": 3
   },
   "file_extension": ".py",
   "mimetype": "text/x-python",
   "name": "python",
   "nbconvert_exporter": "python",
   "pygments_lexer": "ipython3",
   "version": "3.6.5"
  }
 },
 "nbformat": 4,
 "nbformat_minor": 2
}
