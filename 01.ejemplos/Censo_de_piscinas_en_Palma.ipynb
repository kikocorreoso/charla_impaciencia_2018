{
 "cells": [
  {
   "cell_type": "markdown",
   "metadata": {},
   "source": [
    "# Vamos a hacer un censo de piscinas"
   ]
  },
  {
   "cell_type": "markdown",
   "metadata": {},
   "source": [
    "¿Cómo podemos hacer esto?\n",
    "\n",
    "Podemos contratar a 100 personas y que durante una semana recorran todos los hogares de tu municipio para que pregunten, casa por casa:\n",
    "\n",
    "* ¿Tienes una piscina?\n",
    "* En caso afirmativo, ¿de qué tamaño?\n",
    "* ...\n",
    "\n",
    "O, podemos coger imágenes satelitales u ortofotos y, mediante un algoritmo, hacer un recuento.\n",
    "\n",
    "Veamos un caso práctico. En Baleares tenemos un IDE (Infraestructura de Datos Espaciales, http://ideib.caib.es/visualitzador/visor.jsp) que incluye ortofotos a resolución de 0.25m (cada pixel corresponde a 25 cm).\n",
    "\n",
    "Podemos obtener la información mediante peticiones a un WMS (Web Map Service). Por ejemplo:\n",
    "\n",
    "http://ideib.caib.es/pub_ideib/public/Ortofoto/MapServer/WMSServer?SERVICE=WMS&LAYERS=0%2C1%2C2&VERSION=1.3.0&REQUEST=GetMap&STYLES=%2C%2C&EXCEPTIONS=INIMAGE&FORMAT=image%2Fjpeg&TRANSPARENT=FALSE&CRS=EPSG%3A25831&BBOX=470000,4380000,470500,4380500&WIDTH=2000&HEIGHT=2000\n",
    "\n",
    "El WMS, simplificando, es un servidor que permite que le pasemos determinados parámetros y nos devuelve lo que le pedimos. En este caso, en la URL anterior vemos que tenemos `CRS`, `BBOX`, `WIDTH`, `HEIGHT`. Vamos a pedir una serie de imágenes cambiando los parámetros del `BBOX`:"
   ]
  },
  {
   "cell_type": "code",
   "execution_count": null,
   "metadata": {},
   "outputs": [],
   "source": [
    "from pathlib import Path\n",
    "from urllib import request\n",
    "\n",
    "url = (\n",
    "    \"http://ideib.caib.es/pub_ideib/public/Ortofoto/MapServer/WMSServer?SERVICE=WMS&\"\n",
    "    \"LAYERS=0%2C1%2C2&VERSION=1.3.0&REQUEST=GetMap&STYLES=%2C%2C&\"\n",
    "    \"EXCEPTIONS=INIMAGE&FORMAT=image%2Fjpeg&TRANSPARENT=FALSE&CRS=EPSG%3A25831&\"\n",
    "    \"BBOX={x0},{y0},{x1},{y1}&\"\n",
    "    \"WIDTH=2000&HEIGHT=2000\"\n",
    ")\n",
    "filename = \"{x0}_{y0}_500m_2000x2000.jpeg\"\n",
    "pathfile = Path(\".\", \"piscinas\", \"imgs\")\n",
    "for x in range(465000, 470000, 500):\n",
    "    for y in range(4378000, 4383000, 500):\n",
    "        request.urlretrieve(\n",
    "            url.format(x0=x, y0=y, x1=x + 500, y1=y + 500),\n",
    "            filename= pathfile / filename.format(x0=x, y0=y)\n",
    "        )"
   ]
  },
  {
   "cell_type": "markdown",
   "metadata": {},
   "source": [
    "Acabamos de descargar 100 imágenes de 2000x2000 píxeles, cada una con tres canales (R, G, B) con valores de 1 byte (8 bits, UINT8). Si queremos leerlo todo en memoria necesitamos alrededor de:\n",
    "\n",
    "$$2000\\,x\\,2000\\,x\\,100\\,x\\,3\\,x\\,8\\,=\\,9600\\,000\\,000\\,bits$$\n",
    "\n",
    "$$2000\\,x\\,2000\\,x\\,100\\,x\\,3\\,x\\,1\\,=\\,1200\\,000\\,000\\,bytes\\,(~1100\\,Mb)$$\n",
    "\n",
    "Para un área de 5 km x 5 km.\n",
    "\n",
    "En caso de que no todo el mundo tenga mucha RAM vamos a hacer solo un trozo."
   ]
  },
  {
   "cell_type": "code",
   "execution_count": null,
   "metadata": {},
   "outputs": [],
   "source": [
    "from pathlib import Path\n",
    "import numpy as np\n",
    "import sys\n",
    "import matplotlib.pyplot as plt\n",
    "\n",
    "%matplotlib notebook"
   ]
  },
  {
   "cell_type": "code",
   "execution_count": null,
   "metadata": {},
   "outputs": [],
   "source": [
    "data = np.zeros((4000, 4000, 3), dtype=np.uint8)"
   ]
  },
  {
   "cell_type": "code",
   "execution_count": null,
   "metadata": {},
   "outputs": [],
   "source": [
    "sys.getsizeof(data) / 1024**2"
   ]
  },
  {
   "cell_type": "markdown",
   "metadata": {},
   "source": [
    "4 imágenes ocuparían en memoria poco más de 45Mb. Vamos a trabajar solo con una."
   ]
  },
  {
   "cell_type": "markdown",
   "metadata": {},
   "source": [
    "Vamos a leer una única imagen y a guardarla en una única estructura de datos, `data`:"
   ]
  },
  {
   "cell_type": "code",
   "execution_count": null,
   "metadata": {},
   "outputs": [],
   "source": [
    "filename = \"465000_4378000_500m_2000x2000.jpeg\"\n",
    "pathfile = Path(\".\", \"piscinas\", \"imgs\", filename)\n",
    "data = plt.imread(pathfile)\n",
    "        \n",
    "plt.imshow(data)\n",
    "plt.show()"
   ]
  },
  {
   "cell_type": "code",
   "execution_count": null,
   "metadata": {},
   "outputs": [],
   "source": [
    "pool_detector = (\n",
    "    (data[:,:,0] > 100) & (data[:,:,0] < 150) & \n",
    "    (data[:,:,1] > 170) & (data[:,:,1] < 210) & \n",
    "    (data[:,:,2] > 190) & (data[:,:,2] < 220)\n",
    ")\n",
    "plt.imshow(pool_detector, cmap=plt.cool())"
   ]
  },
  {
   "cell_type": "code",
   "execution_count": null,
   "metadata": {},
   "outputs": [],
   "source": [
    "plt.imshow(data)\n",
    "plt.imshow(pool_detector, alpha=0.75, cmap=plt.cool())"
   ]
  },
  {
   "cell_type": "markdown",
   "metadata": {},
   "source": [
    "¿Cuánta agua puede suponer esto?"
   ]
  },
  {
   "cell_type": "code",
   "execution_count": null,
   "metadata": {},
   "outputs": [],
   "source": [
    "pool_detector.sum() / 16 # m2"
   ]
  },
  {
   "cell_type": "markdown",
   "metadata": {},
   "source": [
    "Pensemos que la profundidad media son 1.5 metros y que 1 $m^{3}$ son 1000 litros"
   ]
  },
  {
   "cell_type": "code",
   "execution_count": null,
   "metadata": {},
   "outputs": [],
   "source": [
    "pool_detector.sum() * 1500 / 16 # litros"
   ]
  },
  {
   "cell_type": "markdown",
   "metadata": {},
   "source": [
    "Algunos enlaces interesantes con datos y formas de analizarlos:\n",
    "* http://rexdouglass.com/quick-and-dirty-land-cover-estimates-from-landsat-satellite-imagery-and-openstreetmap/\n",
    "* https://github.com/Fernerkundung/awesome-sentinel/\n",
    "* https://earthengine.google.com/datasets/\n",
    "* https://aws.amazon.com/es/public-datasets/\n",
    "* ..."
   ]
  }
 ],
 "metadata": {
  "kernelspec": {
   "display_name": "Python 3",
   "language": "python",
   "name": "python3"
  },
  "language_info": {
   "codemirror_mode": {
    "name": "ipython",
    "version": 3
   },
   "file_extension": ".py",
   "mimetype": "text/x-python",
   "name": "python",
   "nbconvert_exporter": "python",
   "pygments_lexer": "ipython3",
   "version": "3.6.5"
  }
 },
 "nbformat": 4,
 "nbformat_minor": 2
}
