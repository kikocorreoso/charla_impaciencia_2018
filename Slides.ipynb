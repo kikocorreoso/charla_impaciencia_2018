{
 "cells": [
  {
   "cell_type": "markdown",
   "metadata": {
    "slideshow": {
     "slide_type": "slide"
    }
   },
   "source": [
    "<div class=\"alert alert-success\" style=\"font-size: 40px;\">\n",
    "  <h1 class=\"text-center\">¿Ciencia enlatada?</h1>\n",
    "</div>"
   ]
  },
  {
   "cell_type": "markdown",
   "metadata": {
    "slideshow": {
     "slide_type": "slide"
    }
   },
   "source": [
    "<div class=\"alert alert-success\" style=\"font-size: 30px;\">\n",
    "  <h1 class=\"text-center\">Los objetivos de la charla son 2</h1>\n",
    "</div>"
   ]
  },
  {
   "cell_type": "markdown",
   "metadata": {
    "slideshow": {
     "slide_type": "subslide"
    }
   },
   "source": [
    "<div class=\"alert alert-success\" style=\"font-size: 30px;\">\n",
    "  <h1 class=\"text-center\">Los objetivos de la charla son 2</h1>\n",
    "</div>\n",
    "<div class=\"bg-info text-center\">\n",
    "  <h1 class=\"text-center\">El primero y más importante es...</h1>\n",
    "  <img src=\"./00.static/imgs/002b_tired sleep GIF-source.gif\" />\n",
    "</div>"
   ]
  },
  {
   "cell_type": "markdown",
   "metadata": {
    "slideshow": {
     "slide_type": "subslide"
    }
   },
   "source": [
    "<div class=\"alert alert-success\" style=\"font-size: 30px;\">\n",
    "  <h1 class=\"text-center\">Los objetivos de la charla son 2</h1>\n",
    "</div>\n",
    "<div class=\"bg-info text-center\">\n",
    "  <h1 class=\"text-center\">El segundo es que hablemos un poco de ciencia...</h1>\n",
    "  <img src=\"./00.static/imgs/002c_Science_Neil.gif\" />\n",
    "</div>"
   ]
  },
  {
   "cell_type": "markdown",
   "metadata": {
    "slideshow": {
     "slide_type": "slide"
    }
   },
   "source": [
    "<div class=\"row\">\n",
    "  <div class=\"col-sm-2\">\n",
    "    <img src=\"./00.static/imgs/001_impaciencia.gif\" />\n",
    "    <img src=\"./00.static/imgs/002_pybofractal1.png\" />\n",
    "  </div>\n",
    "  <div class=\"col-sm-4 alert alert-info\">\n",
    "    <H2 class=\"text-muted\"><i class=\"far fa-hand-paper\"></i> Hola</H2>\n",
    "    <H2 class=\"text-primary\">Soy Kiko <i class=\"fas fa-user-secret\"></i></H2>\n",
    "    <H2 class=\"text-success\">Soy <i class=\"fas fa-user-md\"></i> en físicas</H2>\n",
    "    <H2 class=\"text-info\"><i class=\"fas fa-industry\"></i> <i class=\"fas fa-leaf\"></i> Iberdrola</H2>\n",
    "    <H2 class=\"text-warning\"><i class=\"fas fa-edit\"></i> <a class=\"text-warning\" href=\"https://pybonacci.org\">pybonacci</a></H2>\n",
    "  </div>\n",
    "  <div class=\"col-sm-6 alert alert-success\">\n",
    "    <p class=\"text-danger\"><i class=\"fab fa-twitter-square\"></i> <a class=\"text-danger\" href=\"https://twitter.com/pybonacci\">@pybonacci</a></p>\n",
    "    <p class=\"text-danger\"><i class=\"fab fa-twitter-square\"></i> <a class=\"text-danger\" href=\"https://twitter.com/Dr_Meteo\">@dr_meteo</a></p>\n",
    "    <p class=\"text-danger\"><i class=\"fab fa-linkedin\"></i> <a class=\"text-danger\" href=\"https://www.linkedin.com/in/franciscocorreosogarcia/\">@franciscocorreosogarcia</a></p>\n",
    "    <p class=\"text-danger\"><i class=\"fab fa-github\"></i> <a class=\"text-danger\" href=\"https://github.com/kikocorreoso\">@kikocorreoso</a></p>\n",
    "    <p class=\"text-danger\"><i class=\"fab fa-gitlab\"></i> <a class=\"text-danger\" href=\"https://gitlab.com/kikocorreoso\">@kikocorreoso</a></p>\n",
    "    <p class=\"text-danger\"><i class=\"fab fa-bitbucket\"></i> <a class=\"text-danger\" href=\"https://bitbucket.org/kikocorreoso/\">@kikocorreoso</a></p>\n",
    "    <p class=\"text-danger\"><i class=\"fab fa-stack-overflow\"></i> <a class=\"text-danger\" href=\"https://stackexchange.com/users/6774203/kikocorreoso\">@kikocorreoso</a></p>\n",
    "    <p class=\"text-danger\"><i class=\"fas fa-envelope\"></i> kiko<i class=\"fas fa-at\"></i>pybonacci.org</p>\n",
    "    <p class=\"text-danger\"><i class=\"fas fa-envelope\"></i> fcorreoso<i class=\"fas fa-at\"></i>pm.me</p>\n",
    "    <p class=\"text-danger\"><i class=\"fas fa-beer\"></i> O me preguntáis con una cerve...</p>\n",
    "  </div>\n",
    "</div>\n"
   ]
  },
  {
   "cell_type": "markdown",
   "metadata": {
    "slideshow": {
     "slide_type": "slide"
    }
   },
   "source": [
    "<div class=\"alert alert-success\" style=\"font-size: 30px;\">\n",
    "  <h1 class=\"text-center\">Alguna pregunta y alguna definición.</h1>\n",
    "</div>"
   ]
  },
  {
   "cell_type": "markdown",
   "metadata": {
    "slideshow": {
     "slide_type": "slide"
    }
   },
   "source": [
    "<div class=\"alert alert-success\" style=\"font-size: 30px;\">\n",
    "  <h1 class=\"text-center\">Las herramientas del científico</h1>\n",
    "</div>"
   ]
  },
  {
   "cell_type": "markdown",
   "metadata": {
    "slideshow": {
     "slide_type": "fragment"
    }
   },
   "source": [
    "<img src=\"./00.static/imgs/003_excel.png\" />"
   ]
  },
  {
   "cell_type": "markdown",
   "metadata": {
    "slideshow": {
     "slide_type": "slide"
    }
   },
   "source": [
    "<div class=\"alert alert-success\" style=\"font-size: 30px;\">\n",
    "  <h1 class=\"text-center\">Ciencia reproducible</h1>\n",
    "</div>\n",
    "<div class=\"bg-info\">\n",
    "  <h1 class=\"text-center\">Def.— Reproducible research</h1>\n",
    "  <h2><em>Authors provide <u>all</u> the necessary <u>data</u> and the computer <u>codes</u> to run the analysis again, re-creating the results.</em></h2>\n",
    "  <h3 class=\"text-right\">Adapted from: <a href=\"http://ieeexplore.ieee.org/document/4720217/\">Schwab, M., Karrenbach, N., Claerbout, J. (2000) “Making scientific computations reproducible,” Computing in Science and Engineering Vol. 2(6):61–67</a></h3>\n",
    "</div>"
   ]
  },
  {
   "cell_type": "markdown",
   "metadata": {
    "slideshow": {
     "slide_type": "subslide"
    }
   },
   "source": [
    "<div class=\"alert alert-success\" style=\"font-size: 30px;\">\n",
    "  <h1 class=\"text-center\">Ciencia reproducible</h1>\n",
    "</div>\n",
    "<div class=\"bg-info\">\n",
    "  <h1 class=\"text-center\">Science is “show me,” not “trust me”</h1>\n",
    "  <h3 class=\"text-right\">Philip B. Stark, <a href=\"https://www.bitss.org/2015/12/31/science-is-show-me-not-trust-me/\">https://www.bitss.org/2015/12/31/science-is-show-me-not-trust-me/</a></h3>\n",
    "  <img src=\"./00.static/imgs/004_miracle.jpg\" width=\"40%\"/>\n",
    "</div>"
   ]
  },
  {
   "cell_type": "markdown",
   "metadata": {
    "slideshow": {
     "slide_type": "subslide"
    }
   },
   "source": [
    "<div class=\"alert alert-success\" style=\"font-size: 30px;\">\n",
    "  <h1 class=\"text-center\">Ciencia reproducible</h1>\n",
    "</div>\n",
    "<div class=\"bg-info text-center\">\n",
    "  <img src=\"./00.static/imgs/004_reproducible_peng.jpg\" />\n",
    "  <a href=\"http://science.sciencemag.org/content/334/6060\"><h3 class=\"text-right\">Roger D. Peng (2011) “Reproducible Research in Computational Science,” Science Vol. 334(6060):1226–1227</h3></a>\n",
    "  <a href=\"https://mybinder.org/v2/gh/losc-tutorial/LOSC_Event_tutorial/master\"><h3 class=\"text-right\">https://losc.ligo.org/tutorials/</h3></a>\n",
    "</div>"
   ]
  },
  {
   "cell_type": "markdown",
   "metadata": {
    "slideshow": {
     "slide_type": "skip"
    }
   },
   "source": [
    "Pedir el artículo anterior son:\n",
    "* unos 25\\$ si lo quiero en papel y puede tardar 3 semanas o más (tengo la revista entera y no solo el artículo).\n",
    "* unos 30\\$ y tengo acceso al artículo durante 24h.\n",
    "* unos 141\\$ si lo quiero en papel y quiero que me llegue en 5 días (tengo la revista entera y no solo el artículo)."
   ]
  },
  {
   "cell_type": "markdown",
   "metadata": {
    "slideshow": {
     "slide_type": "subslide"
    }
   },
   "source": [
    "<div class=\"alert alert-success\" style=\"font-size: 30px;\">\n",
    "  <h1 class=\"text-center\">Ciencia reproducible</h1>\n",
    "</div>\n",
    "<div class=\"bg-info\">\n",
    "  <h1 class=\"text-center\">Cita de Jon F. Claerbout (profesor en la universidad de Stanford)</h1>\n",
    "  <h2><em>I've learned that interactive programs are slavery (unless they include the ability to arrive in any previous state by means of a script).</em></h2>\n",
    "  <a href=\"http://ieeexplore.ieee.org/document/4720217/\"><h3 class=\"text-right\">Fomel, S., Claerbout, J. (2009) “Guest Editors' Introduction: Reproducible Research,” Computing in Science and Engineering Vol. 11(1):5–7</h3></a>\n",
    "</div>"
   ]
  },
  {
   "cell_type": "markdown",
   "metadata": {
    "slideshow": {
     "slide_type": "subslide"
    }
   },
   "source": [
    "<div class=\"alert alert-success\" style=\"font-size: 30px;\">\n",
    "  <h1 class=\"text-center\">Ciencia reproducible</h1>\n",
    "</div>\n",
    "<div class=\"bg-info\">\n",
    "  <h2>La ciencia es una conversación, entre el científico, los datos, la máquina, otros colegas,el público, las autoridades,...</h2>\n",
    "</div>"
   ]
  },
  {
   "cell_type": "markdown",
   "metadata": {
    "slideshow": {
     "slide_type": "slide"
    }
   },
   "source": [
    "<div class=\"alert alert-success\" style=\"font-size: 30px;\">\n",
    "  <h1 class=\"text-center\">Las <del>herramientas</del> del científico</h1>\n",
    "</div>\n",
    "<div class=\"bg-info\">\n",
    "  <div class=\"row\">\n",
    "    <div class=\"col-sm-2\">\n",
    "      <img src=\"00.static/imgs/005_Microsoft_Excel_2013_logo.svg\" />\n",
    "    </div>\n",
    "    <div class=\"col-sm-10\">\n",
    "      <ul>\n",
    "        <li><h3>Mezcla input</h3></li>\n",
    "        <li><h3>Mezcla output</h3></li>\n",
    "        <li><h3>Mezcla código (VBA, ¿en serio?)</h3></li>\n",
    "        <li><h3>Mezcla presentación</h3></li>\n",
    "        <li><h3>No es sencillo hacer pruebas de código</h3></li>\n",
    "        <li><h3>No es fácil encontrar errores</h3></li>\n",
    "        <li><h3>Software privado <i class=\"fas fa-lock\"></i></h3></li>\n",
    "        <li><h3>Pérdida de control</h3></li>\n",
    "        <li><h3>€€€</h3></li>\n",
    "        <li><h3>No es fácilmente compartible</h3></li>\n",
    "        <li><h3>...</h3></li>\n",
    "      </ul>\n",
    "    </div>\n",
    "  </div>\n",
    "</div>"
   ]
  },
  {
   "cell_type": "markdown",
   "metadata": {
    "slideshow": {
     "slide_type": "subslide"
    }
   },
   "source": [
    "<div class=\"alert alert-success\" style=\"font-size: 30px;\">\n",
    "  <h1 class=\"text-center\">Las <del>herramientas</del> del científico</h1>\n",
    "</div>\n",
    "<img src=\"./00.static/imgs/006_Tweet_Excel.png\" height=\"200\">\n",
    "\n",
    "<a href=\"https://twitter.com/Dr_Meteo/status/935602237270888449\">https://twitter.com/Dr_Meteo/status/935602237270888449</a>"
   ]
  },
  {
   "cell_type": "markdown",
   "metadata": {
    "slideshow": {
     "slide_type": "subslide"
    }
   },
   "source": [
    "<div class=\"alert alert-success\" style=\"font-size: 30px;\">\n",
    "  <h1 class=\"text-center\">Las <del>herramientas</del> del científico</h1>\n",
    "</div>\n",
    "<img src=\"./00.static/imgs/007_Reinhart_Rogoff.png\">\n",
    "\n",
    "<a href=\"https://www.bloomberg.com/news/articles/2013-04-18/faq-reinhart-rogoff-and-the-excel-error-that-changed-history\">https://www.bloomberg.com/news/articles/2013-04-18/faq-reinhart-rogoff-and-the-excel-error-that-changed-history</a>"
   ]
  },
  {
   "cell_type": "markdown",
   "metadata": {
    "slideshow": {
     "slide_type": "subslide"
    }
   },
   "source": [
    "<div class=\"alert alert-warning\" style=\"font-size: 30px;\">\n",
    "  <h1 class=\"text-center\">¿Cómo hago esto con excel?</h1>\n",
    "</div>\n",
    "<div class=\"bg-info\">\n",
    "  <h3><a href=\"./01.ejemplos/Cromos.ipynb\">Estadística con colecciones de cromos.</a></h3>\n",
    "  <h3><a href=\"./01.ejemplos/Perdida_de_costa_en_Malaga.ipynb\">Pérdida de costa en Málaga.</a></h3>\n",
    "  <h3><a href=\"./01.ejemplos/Censo_de_piscinas_en_Palma.ipynb\">Calculando piscinas.</a></h3>\n",
    "  <h3><a href=\"./01.ejemplos/Deteccion_de_mi_careto.ipynb\">Detección de mi careto.</a></h3>\n",
    "  <h3>Juegos.</h3>\n",
    "  <h3><a href=\"./01.ejemplos/Musica.ipynb\">Musica.</a></h3>\n",
    "</div>"
   ]
  },
  {
   "cell_type": "markdown",
   "metadata": {
    "slideshow": {
     "slide_type": "slide"
    }
   },
   "source": [
    "<div class=\"alert alert-warning\" style=\"font-size: 30px;\">\n",
    "  <h1 class=\"text-center\">Un posible flujo de trabajo</h1>\n",
    "</div>\n",
    "<div class=\"bg-info\">\n",
    "  <ul>\n",
    "    <li>Local.</li>\n",
    "    <li>Repositorio de código.</li>\n",
    "    <li>Repositorio de datos.</li>\n",
    "    <li>Pruebas.</li>\n",
    "    <li>Integración continua.</li>\n",
    "    <li>Post procesos.</li>\n",
    "    <li>Publicación.</li>\n",
    "  </ul>\n",
    "</div>"
   ]
  },
  {
   "cell_type": "markdown",
   "metadata": {
    "slideshow": {
     "slide_type": "subslide"
    }
   },
   "source": [
    "<div class=\"alert alert-warning\" style=\"font-size: 30px;\">\n",
    "  <h1 class=\"text-center\">Un posible flujo de trabajo</h1>\n",
    "</div>\n",
    "<div class=\"bg-info\">\n",
    "  <h2>Local</h2>\n",
    "  <h3>Podemos empezar con algo tan simple como Jupyter, un IDE o un editor de texto plano,...</h3>\n",
    "  <h3>Un sistema de control de versiones (Git, Hg, Svn, Fossil,...).</h3>\n",
    "</div>"
   ]
  },
  {
   "cell_type": "markdown",
   "metadata": {
    "slideshow": {
     "slide_type": "subslide"
    }
   },
   "source": [
    "<div class=\"alert alert-warning\" style=\"font-size: 30px;\">\n",
    "  <h1 class=\"text-center\">Código versionado y distribuido.</h1>\n",
    "</div>\n",
    "<div class=\"bg-info\">\n",
    "  <h2>Repositorio de código.</h2>\n",
    "  <h3>Github (Git), Gitlab (Git), Bitbucket (Git, Hg), ChiselApp (Fossil),...</h3>\n",
    "  <h3>Nuestra propia instancia de <a href=\"https://github.com/Kickball/awesome-selfhosted#project-management\">Gitlab, Taiga,...</a></h3>\n",
    "</div>"
   ]
  },
  {
   "cell_type": "markdown",
   "metadata": {
    "slideshow": {
     "slide_type": "subslide"
    }
   },
   "source": [
    "<div class=\"alert alert-warning\" style=\"font-size: 30px;\">\n",
    "  <h1 class=\"text-center\">Datos almacenados y con DOI para poder citar.</h1>\n",
    "</div>\n",
    "<div class=\"bg-info\">\n",
    "  <h2>Repositorio de datos.</h2>\n",
    "  <h3><a href=\"https://zenodo.org/\">Zenodo</a></h3>\n",
    "  <h3><a href=\"https://figshare.com/\">FigShare</a></h3>\n",
    "  <h3><a href=\"https://authorea.com/\">Authorea</a></h3>\n",
    "  <h3><a href=\"http://ivory.idyll.org/blog/2016-using-zenodo-to-archive-github.html\">http://ivory.idyll.org/blog/2016-using-zenodo-to-archive-github.html</a></h3>\n",
    "  <h3>...</h3>\n",
    "</div>"
   ]
  },
  {
   "cell_type": "markdown",
   "metadata": {
    "slideshow": {
     "slide_type": "subslide"
    }
   },
   "source": [
    "<div class=\"alert alert-success\" style=\"font-size: 30px;\">\n",
    "  <h1 class=\"text-center\">Hemos de ser extremadamente cuidadosos.</h1>\n",
    "</div>\n",
    "<div class=\"bg-info\">\n",
    "  <h2>Pruebas, pruebas, pruebas.</h2>\n",
    "  <h3>Si tu código no tiene pruebas tú código está roto.</h3>\n",
    "  <h3>Si tiene pruebas no significa que no esté roto,...</h3>\n",
    "</div>"
   ]
  },
  {
   "cell_type": "markdown",
   "metadata": {
    "slideshow": {
     "slide_type": "subslide"
    }
   },
   "source": [
    "<div class=\"alert alert-success\" style=\"font-size: 30px;\">\n",
    "  <h1 class=\"text-center\">Automatizar tareas aburridas y tediosas.</h1>\n",
    "</div>\n",
    "<div class=\"bg-info\">\n",
    "  <h2>Integración y despliegue continuo</h2>\n",
    "  <h3>Automatizar la ejecución de las pruebas.</h3>\n",
    "  <h3>Automatizar la creación de binarios.</h3>\n",
    "  <h3>Automatizar el despliegue de la documentación.</h3>\n",
    "  <h3>...</h3>\n",
    "</div>"
   ]
  },
  {
   "cell_type": "markdown",
   "metadata": {
    "slideshow": {
     "slide_type": "subslide"
    }
   },
   "source": [
    "<div class=\"alert alert-success\" style=\"font-size: 30px;\">\n",
    "  <h1 class=\"text-center\">Ejemplo en vivo.</h1>\n",
    "</div>\n",
    "<div class=\"bg-info\">\n",
    "  <h2>Algo se va a romper.</h2>\n",
    "  <table class=\"bg-info\">\n",
    "    <tr>\n",
    "      <td><img src=\"00.static/imgs/008a_openPC.jpeg\" width=\"60%\"/></td>\n",
    "      <td><img src=\"00.static/imgs/008b_openPC.jpeg\" width=\"80%\"/></td>\n",
    "    </tr>\n",
    "  </table>\n",
    "</div>"
   ]
  },
  {
   "cell_type": "markdown",
   "metadata": {
    "slideshow": {
     "slide_type": "slide"
    }
   },
   "source": [
    "<div class=\"alert alert-success\" style=\"font-size: 30px;\">\n",
    "  <h1 class=\"text-center\">Algunas referencias.</h1>\n",
    "</div>\n",
    "<div class=\"bg-info\">\n",
    "  <h3><a href=\"https://www.youtube.com/watch?v=PURtmHwk_-0\">Charla de Hadley Wickam en el ACM Chicago 2018</a>.</h3>\n",
    "  <h3><a href=\"https://www.nature.com/news/interactive-notebooks-sharing-the-code-1.16261?WT.ec_id=NATURE-20141106\">Interactive notebooks: Sharing the code</a>.</h3>\n",
    "  <h3><a href=\"https://www.theatlantic.com/science/archive/2018/04/the-scientific-paper-is-obsolete/556676/\">The Scientific Paper Is Obsolete</a>.</h3>\n",
    "  <h3><a href=\"https://www.oreilly.com/ideas/jupyter-at-oreilly\">Embracing Jupyter Notebooks at O'Reilly</a>.</h3>\n",
    "</div>"
   ]
  },
  {
   "cell_type": "markdown",
   "metadata": {
    "slideshow": {
     "slide_type": "subslide"
    }
   },
   "source": [
    "<div class=\"alert alert-success\" style=\"font-size: 30px;\">\n",
    "  <h1 class=\"text-center\">Algunas referencias.</h1>\n",
    "</div>\n",
    "<div class=\"bg-info\">\n",
    "  <h3>Notebooks online:</h3>\n",
    "    <li>\n",
    "      <ul>Google: <a href=\"https://research.google.com/colaboratory/unregistered.html\">research.google.com/colaboratory/unregistered.html</a></ul>\n",
    "      <ul>Azure(MS): <a href=\"https://notebooks.azure.com/\">notebooks.azure.com</a></ul>\n",
    "      <ul>CoCalc: <a href=\"https://cocalc.com/\">cocalc.com/</a></ul>\n",
    "      <ul>JuliaBox: <a href=\"https://www.juliabox.com/\">juliabox.com</a></ul>\n",
    "      <ul>MyBinder: <a href=\"https://mybinder.org/\">mybinder.org</a></ul>\n",
    "      <ul>WikiMedia: <a href=\"https://wikitech.wikimedia.org/wiki/PAWS\">wikitech.wikimedia.org/wiki/PAWS</a></ul>\n",
    "      <ul>IBM: <a href=\"https://datascience.ibm.com/\">datascience.ibm.com</a></ul>\n",
    "      <ul>Gryd: <a href=\"https://gryd.us/\">gryd.us</a></ul>\n",
    "    </li>\n",
    "</div>"
   ]
  },
  {
   "cell_type": "markdown",
   "metadata": {
    "slideshow": {
     "slide_type": "subslide"
    }
   },
   "source": [
    "<div class=\"alert alert-success\" style=\"font-size: 30px;\">\n",
    "  <h1 class=\"text-center\">Algunas referencias.</h1>\n",
    "</div>\n",
    "<div class=\"bg-info\">\n",
    "  <h3>Para inspiraros:</h3>\n",
    "    <li>\n",
    "      <ul>Para crear libros: <a href=\"https://github.com/takluyver/bookbook\">BookBook</a></ul>\n",
    "      <ul>Para crear aplicaciones web: <a href=\"https://github.com/oschuett/appmode\">Jupyter AppMode</a></ul>\n",
    "      <ul>Notebooks de muchas temáticas: <a href=\"https://github.com/ipython-books/cookbook-2nd\">Jupyter Cookbook 2ed</a>, <a href=\"http://nbviewer.jupyter.org/\">NBViewer</a>, <a href=\"http://nb.bianp.net/sort/views/\">NB Gallery</a>, <a href=\"https://github.com/trending/jupyter-notebook?since=weekly\">Trending en Github</a>, <a href=\"https://github.com/search?l=&o=desc&q=extension%3Aipynb+language%3A%22Jupyter+Notebook%22&s=stars&type=Repositories\">Millones de ejemplos en Github</a>...</ul>\n",
    "    </li>\n",
    "</div>"
   ]
  },
  {
   "cell_type": "markdown",
   "metadata": {
    "slideshow": {
     "slide_type": "slide"
    }
   },
   "source": [
    "<div class=\"alert alert-success\" style=\"font-size: 30px;\">\n",
    "  <img src=\"00.static/imgs/009_t.hanks.gif\" width=\"100%\"/>\n",
    "</div>"
   ]
  },
  {
   "cell_type": "code",
   "execution_count": null,
   "metadata": {},
   "outputs": [],
   "source": []
  }
 ],
 "metadata": {
  "celltoolbar": "Slideshow",
  "kernelspec": {
   "display_name": "Python 3",
   "language": "python",
   "name": "python3"
  },
  "language_info": {
   "codemirror_mode": {
    "name": "ipython",
    "version": 3
   },
   "file_extension": ".py",
   "mimetype": "text/x-python",
   "name": "python",
   "nbconvert_exporter": "python",
   "pygments_lexer": "ipython3",
   "version": "3.6.5"
  }
 },
 "nbformat": 4,
 "nbformat_minor": 2
}
