{
 "cells": [
  {
   "cell_type": "markdown",
   "metadata": {
    "slideshow": {
     "slide_type": "slide"
    }
   },
   "source": [
    "<div class=\"alert alert-warning\" style=\"font-size: 30px;\">\n",
    "  <h1 class=\"text-left\">Ciencia</h1>\n",
    "  <h1 class=\"text-center\">para el</h1>\n",
    "  <h1 class=\"text-right\">siglo XXI</h1>\n",
    "  <h1 class=\"text-right\"><small>(¿y más allá?)</small></h1>\n",
    "</div>"
   ]
  },
  {
   "cell_type": "markdown",
   "metadata": {
    "slideshow": {
     "slide_type": "slide"
    }
   },
   "source": [
    "<div class=\"row\">\n",
    "  <div class=\"col-sm-2\">\n",
    "    <img src=\"./00.static/imgs/001_impaciencia.gif\" />\n",
    "    <img src=\"./00.static/imgs/002_pybofractal1.png\" />\n",
    "  </div>\n",
    "  <div class=\"col-sm-4 alert alert-info\">\n",
    "    <H2 class=\"text-muted\"><i class=\"far fa-hand-paper\"></i> Hola</H2>\n",
    "    <H2 class=\"text-primary\">Soy Kiko <i class=\"fas fa-user-secret\"></i></H2>\n",
    "    <H2 class=\"text-success\">Soy <i class=\"fas fa-user-md\"></i> en físicas</H2>\n",
    "    <H2 class=\"text-info\"><i class=\"fas fa-industry\"></i> <i class=\"fas fa-leaf\"></i> Iberdrola</H2>\n",
    "    <H2 class=\"text-warning\"><i class=\"fas fa-edit\"></i> <a class=\"text-warning\" href=\"https://pybonacci.org\">pybonacci</a></H2>\n",
    "  </div>\n",
    "  <div class=\"col-sm-6 alert alert-success\">\n",
    "    <H4 class=\"text-danger\"><i class=\"fab fa-twitter-square\"></i> <a class=\"text-danger\" href=\"https://twitter.com/pybonacci\">@pybonacci</a></H4>\n",
    "    <H4 class=\"text-danger\"><i class=\"fab fa-twitter-square\"></i> <a class=\"text-danger\" href=\"https://twitter.com/Dr_Meteo\">@dr_meteo</a></H4>\n",
    "    <H4 class=\"text-danger\"><i class=\"fab fa-linkedin\"></i> <a class=\"text-danger\" href=\"https://www.linkedin.com/in/franciscocorreosogarcia/\">@fcorreoso</a></H4>\n",
    "    <H4 class=\"text-danger\"><i class=\"fab fa-github\"></i> <a class=\"text-danger\" href=\"https://github.com/kikocorreoso\">@kikocorreoso</a></H4>\n",
    "    <H4 class=\"text-danger\"><i class=\"fab fa-gitlab\"></i> <a class=\"text-danger\" href=\"https://gitlab.com/kikocorreoso\">@kikocorreoso</a></H4>\n",
    "    <H4 class=\"text-danger\"><i class=\"fab fa-bitbucket\"></i> <a class=\"text-danger\" href=\"https://bitbucket.org/kikocorreoso/\">@kikocorreoso</a></H4>\n",
    "    <H4 class=\"text-danger\"><i class=\"fas fa-envelope\"></i> kiko<i class=\"fas fa-at\"></i>pybonacci.org</H4>\n",
    "    <H4 class=\"text-danger\"><i class=\"fas fa-envelope\"></i> fcorreoso<i class=\"fas fa-at\"></i>pm.me</H4>\n",
    "    <H4 class=\"text-danger\"><i class=\"fab fa-stack-overflow\"></i> <a class=\"text-danger\" href=\"https://stackexchange.com/users/6774203/kikocorreoso\">@kikocorreoso</a></H4>\n",
    "  </div>\n",
    "</div>\n"
   ]
  },
  {
   "cell_type": "markdown",
   "metadata": {
    "slideshow": {
     "slide_type": "slide"
    }
   },
   "source": [
    "<div class=\"bg-warning\" style=\"font-size: 30px;\">\n",
    "  <h1 class=\"text-center\">Los objetivos de la charla son 2</h1>\n",
    "</div>"
   ]
  },
  {
   "cell_type": "markdown",
   "metadata": {
    "slideshow": {
     "slide_type": "subslide"
    }
   },
   "source": [
    "<div class=\"bg-warning\" style=\"font-size: 30px;\">\n",
    "  <h1 class=\"text-center\">Los objetivos de la charla son 2</h1>\n",
    "</div>\n",
    "<div class=\"bg-info text-center\">\n",
    "  <h1 class=\"text-center\">El primero y más importante es...</h1>\n",
    "  <img src=\"./00.static/imgs/002b_tired sleep GIF-source.gif\" />\n",
    "</div>"
   ]
  },
  {
   "cell_type": "markdown",
   "metadata": {
    "slideshow": {
     "slide_type": "subslide"
    }
   },
   "source": [
    "<div class=\"bg-warning\" style=\"font-size: 30px;\">\n",
    "  <h1 class=\"text-center\">Los objetivos de la charla son 2</h1>\n",
    "</div>\n",
    "<div class=\"bg-info text-center\">\n",
    "  <h1 class=\"text-center\">El segundo es que hablemos un poco de ciencia...</h1>\n",
    "  <img src=\"./00.static/imgs/002c_Science_Neil.gif\" />\n",
    "</div>"
   ]
  },
  {
   "cell_type": "markdown",
   "metadata": {
    "slideshow": {
     "slide_type": "slide"
    }
   },
   "source": [
    "<div class=\"bg-warning\" style=\"font-size: 30px;\">\n",
    "  <h1 class=\"text-center\">Las herramientas del científico</h1>\n",
    "</div>"
   ]
  },
  {
   "cell_type": "markdown",
   "metadata": {
    "slideshow": {
     "slide_type": "fragment"
    }
   },
   "source": [
    "<img src=\"./00.static/imgs/003_excel.png\" />"
   ]
  },
  {
   "cell_type": "markdown",
   "metadata": {
    "slideshow": {
     "slide_type": "slide"
    }
   },
   "source": [
    "<div class=\"bg-warning\" style=\"font-size: 30px;\">\n",
    "  <h1 class=\"text-center\">Ciencia reproducible</h1>\n",
    "</div>\n",
    "<div class=\"bg-info\">\n",
    "  <h1 class=\"text-center\">Def.— Reproducible research</h1>\n",
    "  <h2><em>Authors provide <mark>all</mark> the necessary <mark>data</mark> and the computer <mark>codes</mark> to run the analysis again, re-creating the results.</em></h2>\n",
    "  <h3 class=\"text-right\">Adapted from: <a href=\"http://ieeexplore.ieee.org/document/4720217/\">Schwab, M., Karrenbach, N., Claerbout, J. (2000) “Making scientific computations reproducible,” Computing in Science and Engineering Vol. 2(6):61–67</a></h3>\n",
    "</div>"
   ]
  },
  {
   "cell_type": "markdown",
   "metadata": {
    "slideshow": {
     "slide_type": "slide"
    }
   },
   "source": [
    "<div class=\"bg-warning\" style=\"font-size: 30px;\">\n",
    "  <h1 class=\"text-center\">Ciencia reproducible</h1>\n",
    "</div>\n",
    "<div class=\"bg-info text-center\">\n",
    "  <img src=\"./00.static/imgs/004_reproducible_peng.jpg\" />\n",
    "  <a href=\"http://science.sciencemag.org/content/334/6060\"><h3 class=\"text-right\">Roger D. Peng (2011) “Reproducible Research in Computational Science,” Science Vol. 334(6060):1226–1227</h3></a>\n",
    "</div>"
   ]
  },
  {
   "cell_type": "markdown",
   "metadata": {
    "slideshow": {
     "slide_type": "skip"
    }
   },
   "source": [
    "Pedir el artículo anterior son:\n",
    "* unos 25\\$ si lo quiero en papel y puede tardar 3 semanas o más (tengo la revista entera y no solo el artículo).\n",
    "* unos 30\\$ y tengo acceso al artículo durante 24h.\n",
    "* unos 141\\$ si lo quiero en papel y quiero que me llegue en 5 días (tengo la revista entera y no solo el artículo)."
   ]
  },
  {
   "cell_type": "markdown",
   "metadata": {
    "slideshow": {
     "slide_type": "slide"
    }
   },
   "source": [
    "<div class=\"bg-warning\" style=\"font-size: 30px;\">\n",
    "  <h1 class=\"text-center\">Ciencia reproducible</h1>\n",
    "</div>\n",
    "<div class=\"bg-info\">\n",
    "  <h1 class=\"text-center\">Cita de Jon F. Claerbout (profesor en la universidad de Stanford)</h1>\n",
    "  <h2><em>I've learned that interactive programs are slavery (unless they include the ability to arrive in any previous state by means of a script).</em></h2>\n",
    "  <a href=\"http://ieeexplore.ieee.org/document/4720217/\"><h3 class=\"text-right\">Fomel, S., Claerbout, J. (2009) “Guest Editors' Introduction: Reproducible Research,” Computing in Science and Engineering Vol. 11(1):5–7</h3></a>\n",
    "</div>"
   ]
  },
  {
   "cell_type": "markdown",
   "metadata": {
    "slideshow": {
     "slide_type": "slide"
    }
   },
   "source": [
    "<div class=\"bg-warning\" style=\"font-size: 30px;\">\n",
    "  <h1 class=\"text-center\">Las <del>herramientas</del> del científico</h1>\n",
    "</div>\n",
    "<div class=\"bg-info\">\n",
    "  <div class=\"row\">\n",
    "    <div class=\"col-sm-2\">\n",
    "      <img src=\"00.static/imgs/005_Microsoft_Excel_2013_logo.svg\" />\n",
    "    </div>\n",
    "    <div class=\"col-sm-10\">\n",
    "      <ul>\n",
    "        <li><h3>Mezcla input</h3></li>\n",
    "        <li><h3>Mezcla output</h3></li>\n",
    "        <li><h3>Mezcla código (VBA, ¿en serio?)</h3></li>\n",
    "        <li><h3>Mezcla presentación</h3></li>\n",
    "        <li><h3>No es sencillo hacer pruebas de código</h3></li>\n",
    "        <li><h3>No es fácil encontrar errores</h3></li>\n",
    "        <li><h3>Software privado <i class=\"fas fa-lock\"></i></h3></li>\n",
    "        <li><h3>Pérdida de control</h3></li>\n",
    "        <li><h3>€€€</h3></li>\n",
    "        <li><h3>No es fácilmente compartible</h3></li>\n",
    "        <li><h3>...</h3></li>\n",
    "      </ul>\n",
    "    </div>\n",
    "  </div>\n",
    "</div>"
   ]
  },
  {
   "cell_type": "markdown",
   "metadata": {
    "slideshow": {
     "slide_type": "subslide"
    }
   },
   "source": [
    "<div class=\"bg-warning\" style=\"font-size: 30px;\">\n",
    "  <h1 class=\"text-center\">Las <del>herramientas</del> del científico</h1>\n",
    "</div>\n",
    "<img src=\"./00.static/imgs/006_Tweet_Excel.png\" height=\"200\">\n",
    "\n",
    "https://twitter.com/Dr_Meteo/status/935602237270888449"
   ]
  },
  {
   "cell_type": "markdown",
   "metadata": {
    "slideshow": {
     "slide_type": "slide"
    }
   },
   "source": [
    "<div class=\"bg-warning\" style=\"font-size: 30px;\">\n",
    "  <h1 class=\"text-center\">¿Cómo hago esto con excel?</h1>\n",
    "</div>\n",
    "<div class=\"bg-info\">\n",
    "  <h3><a href=\"./notebooks/01.ejemplos/Cromos.ipynb\">Estadística con colecciones de cromos.</a></h3>\n",
    "  <h3><a href=\"./01.ejemplos/Perdida_de_costa_en_Malaga.ipynb\">Pérdida de costa en Málaga.</a></h3>\n",
    "  <h3><a href=\"./01.ejemplos/Censo_de_piscinas_en_Palma.ipynb\">Calculando piscinas.</a></h3>\n",
    "  <h3><a href=\"./01.ejemplos/Deteccion_de_mi_careto.ipynb\">Detección de mi careto.</a></h3>\n",
    "  <h3><a href=\"./01.ejemplos/Musica.ipynb\">Musica.</a></h3>\n",
    "</div>"
   ]
  },
  {
   "cell_type": "code",
   "execution_count": null,
   "metadata": {},
   "outputs": [],
   "source": []
  }
 ],
 "metadata": {
  "celltoolbar": "Slideshow",
  "kernelspec": {
   "display_name": "Python 3",
   "language": "python",
   "name": "python3"
  },
  "language_info": {
   "codemirror_mode": {
    "name": "ipython",
    "version": 3
   },
   "file_extension": ".py",
   "mimetype": "text/x-python",
   "name": "python",
   "nbconvert_exporter": "python",
   "pygments_lexer": "ipython3",
   "version": "3.6.5"
  }
 },
 "nbformat": 4,
 "nbformat_minor": 2
}
